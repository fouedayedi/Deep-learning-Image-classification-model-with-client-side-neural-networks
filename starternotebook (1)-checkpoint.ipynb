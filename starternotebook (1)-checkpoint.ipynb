{
 "cells": [
  {
   "cell_type": "code",
   "execution_count": 3,
   "id": "98cbab1a-c138-4d12-85fd-4ed51acd2ecd",
   "metadata": {},
   "outputs": [],
   "source": [
    "import pandas as pd \n",
    "import matplotlib.pyplot as plt\n",
    "import tensorflow as tf\n",
    "import numpy as np \n",
    "from tensorflow import keras\n",
    "from tensorflow.keras.layers import Dense\n",
    "from tensorflow.keras.preprocessing.image import ImageDataGenerator\n",
    "from tensorflow.keras.models import Model\n",
    "from tensorflow.keras.callbacks import Callback, EarlyStopping\n",
    "from sklearn.metrics import confusion_matrix, classification_report"
   ]
  },
  {
   "cell_type": "code",
   "execution_count": 4,
   "id": "7418e3a2-6493-46c7-b0ea-7833b901db6c",
   "metadata": {},
   "outputs": [],
   "source": [
    "# create a data generator\n",
    "datagen = ImageDataGenerator(\n",
    "        samplewise_center=True,  # set each sample mean to 0\n",
    "        rotation_range=10,  # randomly rotate images in the range (degrees, 0 to 180)\n",
    "        zoom_range = 0.1, # Randomly zoom image \n",
    "        width_shift_range=0.1,  # randomly shift images horizontally (fraction of total width)\n",
    "        height_shift_range=0.1,  # randomly shift images vertically (fraction of total height)\n",
    "        horizontal_flip=True,  # randomly flip images\n",
    "        vertical_flip=True,# flip vertically\n",
    "        validation_split=0.2) "
   ]
  },
  {
   "cell_type": "code",
   "execution_count": 5,
   "id": "127ba65e-43f4-4f9a-a078-20c67992312d",
   "metadata": {},
   "outputs": [
    {
     "name": "stdout",
     "output_type": "stream",
     "text": [
      "Found 3045 images belonging to 4 classes.\n",
      "Found 759 images belonging to 4 classes.\n"
     ]
    }
   ],
   "source": [
    "train=datagen.flow_from_directory(  \"Desktop/mercarue-check-AI/dataframe\",  \n",
    "                                    target_size=(224, 224), \n",
    "                                    color_mode='rgb',\n",
    "                                    shuffle=True,\n",
    "                                    seed=42,\n",
    "                                    class_mode='categorical', \n",
    "                                    batch_size=32,\n",
    "                                    subset=\"training\"\n",
    ")\n",
    "validation=datagen.flow_from_directory(  \"Desktop/mercarue-check-AI/dataframe\",  \n",
    "                                    target_size=(224, 224), \n",
    "                                    shuffle=True,\n",
    "                                    seed=42,\n",
    "                                    color_mode='rgb', \n",
    "                                    class_mode='categorical', \n",
    "                                    batch_size=32,\n",
    "                                    subset='validation'\n",
    ")"
   ]
  },
  {
   "cell_type": "code",
   "execution_count": 6,
   "id": "e7067076-ce44-44a5-898c-750459491980",
   "metadata": {},
   "outputs": [
    {
     "data": {
      "text/plain": [
       "['computers', 'imprimante', 'smartphone', 'tablette']"
      ]
     },
     "execution_count": 6,
     "metadata": {},
     "output_type": "execute_result"
    }
   ],
   "source": [
    "class_names = list(train.class_indices.keys())\n",
    "class_names"
   ]
  },
  {
   "cell_type": "code",
   "execution_count": 7,
   "id": "13753e44-e741-4252-9f0d-a6b5e82c0469",
   "metadata": {},
   "outputs": [
    {
     "name": "stdout",
     "output_type": "stream",
     "text": [
      "Downloading data from https://storage.googleapis.com/tensorflow/keras-applications/vgg16/vgg16_weights_tf_dim_ordering_tf_kernels_notop.h5\n",
      "58889256/58889256 [==============================] - 43s 1us/step\n"
     ]
    }
   ],
   "source": [
    "from tensorflow import keras\n",
    "\n",
    "base_model = keras.applications.VGG16(\n",
    "    weights='imagenet',  # Load weights pre-trained on ImageNet.\n",
    "    input_shape=(224, 224, 3),\n",
    "    include_top=False)"
   ]
  },
  {
   "cell_type": "code",
   "execution_count": 8,
   "id": "fa8d84d6-bb78-4b6d-b165-bb11bdc178af",
   "metadata": {},
   "outputs": [
    {
     "name": "stdout",
     "output_type": "stream",
     "text": [
      "Model: \"vgg16\"\n",
      "_________________________________________________________________\n",
      " Layer (type)                Output Shape              Param #   \n",
      "=================================================================\n",
      " input_1 (InputLayer)        [(None, 224, 224, 3)]     0         \n",
      "                                                                 \n",
      " block1_conv1 (Conv2D)       (None, 224, 224, 64)      1792      \n",
      "                                                                 \n",
      " block1_conv2 (Conv2D)       (None, 224, 224, 64)      36928     \n",
      "                                                                 \n",
      " block1_pool (MaxPooling2D)  (None, 112, 112, 64)      0         \n",
      "                                                                 \n",
      " block2_conv1 (Conv2D)       (None, 112, 112, 128)     73856     \n",
      "                                                                 \n",
      " block2_conv2 (Conv2D)       (None, 112, 112, 128)     147584    \n",
      "                                                                 \n",
      " block2_pool (MaxPooling2D)  (None, 56, 56, 128)       0         \n",
      "                                                                 \n",
      " block3_conv1 (Conv2D)       (None, 56, 56, 256)       295168    \n",
      "                                                                 \n",
      " block3_conv2 (Conv2D)       (None, 56, 56, 256)       590080    \n",
      "                                                                 \n",
      " block3_conv3 (Conv2D)       (None, 56, 56, 256)       590080    \n",
      "                                                                 \n",
      " block3_pool (MaxPooling2D)  (None, 28, 28, 256)       0         \n",
      "                                                                 \n",
      " block4_conv1 (Conv2D)       (None, 28, 28, 512)       1180160   \n",
      "                                                                 \n",
      " block4_conv2 (Conv2D)       (None, 28, 28, 512)       2359808   \n",
      "                                                                 \n",
      " block4_conv3 (Conv2D)       (None, 28, 28, 512)       2359808   \n",
      "                                                                 \n",
      " block4_pool (MaxPooling2D)  (None, 14, 14, 512)       0         \n",
      "                                                                 \n",
      " block5_conv1 (Conv2D)       (None, 14, 14, 512)       2359808   \n",
      "                                                                 \n",
      " block5_conv2 (Conv2D)       (None, 14, 14, 512)       2359808   \n",
      "                                                                 \n",
      " block5_conv3 (Conv2D)       (None, 14, 14, 512)       2359808   \n",
      "                                                                 \n",
      " block5_pool (MaxPooling2D)  (None, 7, 7, 512)         0         \n",
      "                                                                 \n",
      "=================================================================\n",
      "Total params: 14,714,688\n",
      "Trainable params: 14,714,688\n",
      "Non-trainable params: 0\n",
      "_________________________________________________________________\n"
     ]
    }
   ],
   "source": [
    "base_model.summary()"
   ]
  },
  {
   "cell_type": "code",
   "execution_count": 13,
   "id": "7d7f6482-8452-4082-9f8f-8e64d10591cd",
   "metadata": {},
   "outputs": [],
   "source": [
    "base_model.trainable = False#freezing\n",
    "inputs = keras.Input(shape=(224, 224, 3))\n",
    "# Separately from setting trainable on the model, we set training to False \n",
    "x = base_model(inputs, training=False)\n",
    "x = keras.layers.GlobalAveragePooling2D()(x)\n",
    "# A Dense classifier with a single unit (binary classification)\n",
    "outputs = Dense(4, activation='softmax')(x)\n",
    "model = keras.Model(inputs, outputs)"
   ]
  },
  {
   "cell_type": "code",
   "execution_count": 14,
   "id": "fbcf84ae-f844-4fa9-b9ef-1d476af839a4",
   "metadata": {},
   "outputs": [],
   "source": [
    "model.compile(loss = 'categorical_crossentropy',optimizer='Adam',metrics=['accuracy'])"
   ]
  },
  {
   "cell_type": "code",
   "execution_count": 15,
   "id": "1b176403-bbaa-4807-9631-2c4b9540f417",
   "metadata": {},
   "outputs": [],
   "source": [
    "my_callbacks  = [EarlyStopping(monitor='val_loss',\n",
    "                              min_delta=0,\n",
    "                              patience=2,\n",
    "                              mode='auto')]"
   ]
  },
  {
   "cell_type": "code",
   "execution_count": null,
   "id": "dc347d71-4e8d-44bd-9759-e8b0b08c1f1e",
   "metadata": {},
   "outputs": [
    {
     "name": "stdout",
     "output_type": "stream",
     "text": [
      "Epoch 1/50\n",
      "96/96 [==============================] - 437s 5s/step - loss: 0.6191 - accuracy: 0.8506 - val_loss: 0.6339 - val_accuracy: 0.8458\n",
      "Epoch 2/50\n",
      "96/96 [==============================] - 439s 5s/step - loss: 0.5058 - accuracy: 0.8716 - val_loss: 0.5388 - val_accuracy: 0.8656\n",
      "Epoch 3/50\n",
      "96/96 [==============================] - 448s 5s/step - loss: 0.4265 - accuracy: 0.8798 - val_loss: 0.5332 - val_accuracy: 0.8656\n",
      "Epoch 4/50\n",
      "96/96 [==============================] - 427s 4s/step - loss: 0.3924 - accuracy: 0.8913 - val_loss: 0.5355 - val_accuracy: 0.8722\n",
      "Epoch 5/50\n",
      "96/96 [==============================] - 424s 4s/step - loss: 0.3357 - accuracy: 0.9031 - val_loss: 0.4648 - val_accuracy: 0.8801\n",
      "Epoch 6/50\n",
      "96/96 [==============================] - 419s 4s/step - loss: 0.3148 - accuracy: 0.9038 - val_loss: 0.4382 - val_accuracy: 0.8867\n",
      "Epoch 7/50\n",
      "96/96 [==============================] - 414s 4s/step - loss: 0.2945 - accuracy: 0.9057 - val_loss: 0.4728 - val_accuracy: 0.8814\n",
      "Epoch 8/50\n",
      "96/96 [==============================] - 409s 4s/step - loss: 0.2788 - accuracy: 0.9084 - val_loss: 0.4285 - val_accuracy: 0.8854\n",
      "Epoch 9/50\n",
      "82/96 [========================>.....] - ETA: 48s - loss: 0.2420 - accuracy: 0.9137"
     ]
    }
   ],
   "source": [
    "history = model.fit(\n",
    "    train,\n",
    "    validation_data=validation,\n",
    "    epochs=50,\n",
    "    callbacks=my_callbacks,\n",
    "    verbose=1\n",
    ")"
   ]
  },
  {
   "cell_type": "code",
   "execution_count": null,
   "id": "afaba03c-c1b8-4401-936d-b82688254279",
   "metadata": {},
   "outputs": [],
   "source": [
    "import matplotlib.pyplot as plt\n",
    "import matplotlib.image as mpimg\n",
    "from tensorflow.keras.preprocessing import image as image_utils\n",
    "from tensorflow.keras.applications.imagenet_utils import preprocess_input\n",
    "\n",
    "def show_image(image_path):\n",
    "    image = mpimg.imread(image_path)\n",
    "    plt.imshow(image)\n",
    "\n",
    "def make_predictions(image_path):\n",
    "    show_image(image_path)\n",
    "    image = image_utils.load_img(image_path, target_size=(224, 224))\n",
    "    image = image_utils.img_to_array(image)\n",
    "    image = image.reshape(1,224,224,3)\n",
    "    image = preprocess_input(image)\n",
    "    preds = model.predict(image)\n",
    "    return preds"
   ]
  },
  {
   "cell_type": "code",
   "execution_count": null,
   "id": "9c13f6f0-94fc-40d5-84a3-5041c2e64edd",
   "metadata": {},
   "outputs": [],
   "source": [
    "class_names[np.argmax(make_predictions(\"Desktop/mercarue-check-AI/dataframe/computers/00093070c55fdce4b0eae99e885b1739.jpg\"))]"
   ]
  }
 ],
 "metadata": {
  "kernelspec": {
   "display_name": "Python 3 (ipykernel)",
   "language": "python",
   "name": "python3"
  },
  "language_info": {
   "codemirror_mode": {
    "name": "ipython",
    "version": 3
   },
   "file_extension": ".py",
   "mimetype": "text/x-python",
   "name": "python",
   "nbconvert_exporter": "python",
   "pygments_lexer": "ipython3",
   "version": "3.9.12"
  }
 },
 "nbformat": 4,
 "nbformat_minor": 5
}
